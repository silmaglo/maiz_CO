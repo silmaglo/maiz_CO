{
 "cells": [
  {
   "cell_type": "markdown",
   "metadata": {},
   "source": [
    "# Trabajo Data Life Cycle - metadatos basados en Dublin Core"
   ]
  },
  {
   "cell_type": "code",
   "execution_count": 1,
   "metadata": {},
   "outputs": [],
   "source": [
    "#me falta el identifier nuestro\n",
    "#estoy abierta a cambios en los metadatos"
   ]
  },
  {
   "cell_type": "code",
   "execution_count": 2,
   "metadata": {},
   "outputs": [],
   "source": [
    "import xml.etree.ElementTree as ET\n",
    "import requests"
   ]
  },
  {
   "cell_type": "code",
   "execution_count": 3,
   "metadata": {},
   "outputs": [
    {
     "data": {
      "text/plain": [
       "<Element 'searchRetrieveResponse' at 0x108c4f770>"
      ]
     },
     "execution_count": 3,
     "metadata": {},
     "output_type": "execute_result"
    }
   ],
   "source": [
    "dc_xml = '''<?xml version=\"1.0\" encoding=\"UTF-8\" standalone=\"no\"?> <?xml-stylesheet type=\"text/xsl\" href=\"/webservices/catalog/xsl/searchRetrieveResponse.xsl\"?>\n",
    "<searchRetrieveResponse xmlns:oclcterms=\"http://purl.org/oclc/terms/\" xmlns:dc=\"http://purl.org/dc/elements/1.1/\" xmlns:diag=\"http://www.loc.gov/zing/srw/diagnostic/\" xmlns:xsi=\"http://www.w3.org/2001/XMLSchema-instance\">\n",
    "\n",
    "<dc:title>Análisis de la relación entre la temperatura, localización geográfica y rendimiento en la producción de Zea mays en Colombia</dc:title>\n",
    "<dc:creator>David Montero Loaiza</dc:creator>\n",
    "<dc:creator>Ana González Guerra</dc:creator>\n",
    "<dc:creator>Javier Alonso del Saso</dc:creator>\n",
    "<dc:creator>Silvia Magdalena López Monzó</dc:creator>\n",
    "<dc:subject>maiz, produccion, rendimiento, Colombia, municipio, temperatura, dependencia</dc:subject>\n",
    "<dc:description>La producción de Zea Mays (maíz tecnificado) presenta cierta dependencia con la temperatura. Estudiaremos esta dependencia en diferentes áreas de producción en municipios de Colombia. Para lograr nuestro objetivo, compararemos la producción por municipios utilizando el rendimiento de la tierra (cociente de toneladas producidas por hectárea) y la eficiencia de la misma (cociente entre terreno que genera producto y terreno sembrado)</dc:description>\n",
    "<dc:publisher>Facultad de Ciencias, Universidad de Cantabria</dc:publisher>\n",
    "<dc:contributor URL1=\"https://www.datos.gov.co/\" URL2=\"https://lpdacc.usgs.gov/\" ULR3=\"https://geoportal.dane.gov.co/\">Base de datos en abierto del gobierno de Colombia, Base de datos en abierto de The Land Processes Distributed Active CenterBase, Geoportal del Departamento Administrativo Nacional de Estadística de Colombia</dc:contributor>\n",
    "<dc:date>20/01/2020</dc:date>\n",
    "<dc:type>investigación, análisis de datos</dc:type>\n",
    "<dc:format>LaTeX</dc:format>\n",
    "<dc:identifier>poner enlace de github cuando tengamos el trabajo hecho</dc:identifier>\n",
    "<dc:source URL=\"https://www.datos.gov.co/Agricultura-y-Desarrollo-Rural/Cadena-Productiva-Ma-z-Area-Producci-n-Y-Rendimien/d968-yfb5\" DOI =\"10.5067/MODIS/MOD11A1.006\" gcoFileIndetifier=\"e3514642-3a36-4184-8527-8311cf9287cb\">Cadena Productiva Maíz Area Producción y Rendimiento,Terra Land Surface Temperature and Emissivity Daily Global 1km, Nivel de referencia de veredas</dc:source>\n",
    "<dc:language>Español</dc:language>\n",
    "<dc:relation>-</dc:relation>\n",
    "<dc:coverage>Santander, Cantabria, España-04/12/2019</dc:coverage>\n",
    "<dc:rights>Reconocimiento 4.0 Internacional</dc:rights>\n",
    "\n",
    "\n",
    "\n",
    "\n",
    "</searchRetrieveResponse>'''\n",
    "tree = ET.fromstring(dc_xml)\n",
    "tree"
   ]
  },
  {
   "cell_type": "code",
   "execution_count": 4,
   "metadata": {},
   "outputs": [
    {
     "name": "stdout",
     "output_type": "stream",
     "text": [
      "{http://purl.org/dc/elements/1.1/}title Análisis de la relación entre la temperatura, localización geográfica y rendimiento en la producción de Zea mays en Colombia\n",
      "{http://purl.org/dc/elements/1.1/}creator David Montero Loaiza\n",
      "{http://purl.org/dc/elements/1.1/}creator Ana González Guerra\n",
      "{http://purl.org/dc/elements/1.1/}creator Javier Alonso del Saso\n",
      "{http://purl.org/dc/elements/1.1/}creator Silvia Magdalena López Monzó\n",
      "{http://purl.org/dc/elements/1.1/}subject maiz, produccion, rendimiento, Colombia, municipio, temperatura, dependencia\n",
      "{http://purl.org/dc/elements/1.1/}description La producción de Zea Mays (maíz tecnificado) presenta cierta dependencia con la temperatura. Estudiaremos esta dependencia en diferentes áreas de producción en municipios de Colombia. Para lograr nuestro objetivo, compararemos la producción por municipios utilizando el rendimiento de la tierra (cociente de toneladas producidas por hectárea) y la eficiencia de la misma (cociente entre terreno que genera producto y terreno sembrado)\n",
      "{http://purl.org/dc/elements/1.1/}publisher Facultad de Ciencias, Universidad de Cantabria\n",
      "{http://purl.org/dc/elements/1.1/}contributor Base de datos en abierto del gobierno de Colombia, Base de datos en abierto de The Land Processes Distributed Active CenterBase, Geoportal del Departamento Administrativo Nacional de Estadística de Colombia\n",
      "{http://purl.org/dc/elements/1.1/}date 20/01/2020\n",
      "{http://purl.org/dc/elements/1.1/}type investigación, análisis de datos\n",
      "{http://purl.org/dc/elements/1.1/}format LaTeX\n",
      "{http://purl.org/dc/elements/1.1/}identifier poner enlace de github cuando tengamos el trabajo hecho\n",
      "{http://purl.org/dc/elements/1.1/}source Cadena Productiva Maíz Area Producción y Rendimiento,Terra Land Surface Temperature and Emissivity Daily Global 1km, Nivel de referencia de veredas\n",
      "{http://purl.org/dc/elements/1.1/}language Español\n",
      "{http://purl.org/dc/elements/1.1/}relation -\n",
      "{http://purl.org/dc/elements/1.1/}coverage Santander, Cantabria, España-04/12/2019\n",
      "{http://purl.org/dc/elements/1.1/}rights Reconocimiento 4.0 Internacional\n"
     ]
    }
   ],
   "source": [
    "for table in tree.getiterator('searchRetrieveResponse'):\n",
    "    for child in table:\n",
    "        print(child.tag, child.text)"
   ]
  },
  {
   "cell_type": "code",
   "execution_count": 5,
   "metadata": {},
   "outputs": [
    {
     "data": {
      "text/plain": [
       "{'URL1': 'https://www.datos.gov.co/',\n",
       " 'URL2': 'https://lpdacc.usgs.gov/',\n",
       " 'ULR3': 'https://geoportal.dane.gov.co/'}"
      ]
     },
     "execution_count": 5,
     "metadata": {},
     "output_type": "execute_result"
    }
   ],
   "source": [
    "namespaces = {'dc': 'http://purl.org/dc/elements/1.1/'} \n",
    "tree.find('dc:contributor',namespaces).attrib"
   ]
  },
  {
   "cell_type": "code",
   "execution_count": 6,
   "metadata": {},
   "outputs": [
    {
     "name": "stdout",
     "output_type": "stream",
     "text": [
      "{http://purl.org/dc/elements/1.1/}title {} Análisis de la relación entre la temperatura, localización geográfica y rendimiento en la producción de Zea mays en Colombia\n",
      "{http://purl.org/dc/elements/1.1/}creator {} Javier Alonso del Saso\n",
      "{http://purl.org/dc/elements/1.1/}creator {} Ana González Guerra\n",
      "{http://purl.org/dc/elements/1.1/}creator {} Silvia Magdalena López Monzó\n",
      "{http://purl.org/dc/elements/1.1/}creator {} David Montero Loaiza\n",
      "{http://purl.org/dc/elements/1.1/}subject {} maiz, produccion, rendimiento, Colombia, municipio, temperatura, dependencia\n",
      "{http://purl.org/dc/elements/1.1/}description {} La producción de Zea Mays (maíz tecnificado) presenta cierta dependencia con la temperatura. Estudiaremos esta dependencia en diferentes áreas de producción en municipios de Colombia. Para lograr nuestro objetivo, compararemos la producción por municipios utilizando el rendimiento de la tierra (cociente de toneladas producidas por hectárea) y la eficiencia de la misma (cociente entre terreno que genera producto y terreno sembrado)\n",
      "{http://purl.org/dc/elements/1.1/}publisher {} Facultad de Ciencias, Universidad de Cantabria\n",
      "{http://purl.org/dc/elements/1.1/}contributor {'URL1': 'https://www.datos.gov.co/', 'URL2': 'https://lpdacc.usgs.gov/', 'ULR3': 'https://geoportal.dane.gov.co/'} Base de datos en abierto del gobierno de Colombia, Base de datos en abierto de The Land Processes Distributed Active CenterBase, Geoportal del Departamento Administrativo Nacional de Estadística de Colombia\n",
      "{http://purl.org/dc/elements/1.1/}date {} 20/01/2020\n",
      "{http://purl.org/dc/elements/1.1/}type {} investigación, análisis de datos\n",
      "{http://purl.org/dc/elements/1.1/}format {} LaTeX\n",
      "{http://purl.org/dc/elements/1.1/}identifier {} poner enlace de github cuando tengamos el trabajo hecho\n",
      "{http://purl.org/dc/elements/1.1/}source {'URL': 'https://www.datos.gov.co/Agricultura-y-Desarrollo-Rural/Cadena-Productiva-Ma-z-Area-Producci-n-Y-Rendimien/d968-yfb5', 'DOI': '10.5067/MODIS/MOD11A1.006', 'gcoFileIndetifier': 'e3514642-3a36-4184-8527-8311cf9287cb'} Cadena Productiva Maíz Area Producción y Rendimiento,Terra Land Surface Temperature and Emissivity Daily Global 1km, Nivel de referencia de veredas\n",
      "{http://purl.org/dc/elements/1.1/}language {} Español\n",
      "{http://purl.org/dc/elements/1.1/}relation {} -\n",
      "{http://purl.org/dc/elements/1.1/}coverage {} Santander, Cantabria, España-04/12/2019\n",
      "{http://purl.org/dc/elements/1.1/}rights {} HELPPPPPPP\n"
     ]
    }
   ],
   "source": [
    "for table in tree.getiterator('searchRetrieveResponse'):\n",
    "    for child in table:\n",
    "        print(child.tag, child.attrib, child.text)"
   ]
  }
 ],
 "metadata": {
  "kernelspec": {
   "display_name": "Python 3",
   "language": "python",
   "name": "python3"
  },
  "language_info": {
   "codemirror_mode": {
    "name": "ipython",
    "version": 3
   },
   "file_extension": ".py",
   "mimetype": "text/x-python",
   "name": "python",
   "nbconvert_exporter": "python",
   "pygments_lexer": "ipython3",
   "version": "3.7.5"
  }
 },
 "nbformat": 4,
 "nbformat_minor": 2
}
