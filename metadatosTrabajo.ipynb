{
 "cells": [
  {
   "cell_type": "markdown",
   "metadata": {},
   "source": [
    "# Trabajo Data Life Cycle - metadatos basados en Dublin Core"
   ]
  },
  {
   "cell_type": "code",
   "execution_count": 1,
   "metadata": {},
   "outputs": [],
   "source": [
    "import xml.etree.ElementTree as ET\n",
    "import requests"
   ]
  },
  {
   "cell_type": "code",
   "execution_count": 2,
   "metadata": {},
   "outputs": [
    {
     "data": {
      "text/plain": [
       "<Element 'searchRetrieveResponse' at 0x10c75bdd0>"
      ]
     },
     "execution_count": 2,
     "metadata": {},
     "output_type": "execute_result"
    }
   ],
   "source": [
    "dc_xml = '''<?xml version=\"1.0\" encoding=\"UTF-8\" standalone=\"no\"?> <?xml-stylesheet type=\"text/xsl\" href=\"/webservices/catalog/xsl/searchRetrieveResponse.xsl\"?>\n",
    "<searchRetrieveResponse xmlns:oclcterms=\"http://purl.org/oclc/terms/\" xmlns:dc=\"http://purl.org/dc/elements/1.1/\" xmlns:diag=\"http://www.loc.gov/zing/srw/diagnostic/\" xmlns:xsi=\"http://www.w3.org/2001/XMLSchema-instance\">\n",
    "\n",
    "\n",
    "xmlns:oclcterms=\"http://purl.org/oclc/terms/\" \n",
    "xmlns:dc=\"http://purl.org/dc/elements/1.1/\" \n",
    "xmlns:diag=\"http://www.loc.gov/zing/srw/diagnostic/\" \n",
    "xmlns:xsi=\"http://www.w3.org/2001/XMLSchema-instance\">\n",
    "\n",
    "<dc:title>Datos curados de variables de producción por departamento colombiano (2015-2018)</dc:title>\n",
    "<dc:creator>Ana González Guerra</dc:creator>\n",
    "<dc:creator>David Montero Loaiza</dc:creator>\n",
    "<dc:creator>Silvia Magdalena López Monzó</dc:creator>\n",
    "<dc:creator>Javier Alonso del Saso</dc:creator>\n",
    "<dc:subject>\n",
    "maíz, producción, rendimiento, Colombia, departamento, temperatura, área cosechada, área sembrada\n",
    "</dc:subject>\n",
    "<dc:description>\n",
    "El siguiente dataset contiene información sobre el rendimiento (t/ha), producción (t), área cosechada (ha), área sembrada (ha) y temperatura (ºC) de cada departamento colombiano por semestre desde 2015 hasta el primer semestre de 2018.\n",
    "</dc:description>\n",
    "<dc:publisher>GitHub</dc:publisher>\n",
    "<dc:contributor URL1=\"https://www.datos.gov.co/\" URL2=\"https://lpdacc.usgs.gov/\" ULR3=\"https://geoportal.dane.gov.co/\">Base de datos en abierto del gobierno de Colombia, Base de datos en abierto de The Land Processes Distributed Active CenterBase, Geoportal del Departamento Administrativo Nacional de Estadística de Colombia</dc:contributor>\n",
    "<dc:date>20/01/2020</dc:date>\n",
    "<dc:type>investigación, análisis de datos, transformación</dc:type>\n",
    "<dc:format>csv</dc:format>\n",
    "<dc:identifier>https://github.com/javialonsaso/maiz_CO/tree/master</dc:identifier>\n",
    "<dc:source URL=\"https://www.datos.gov.co/Agricultura-y-Desarrollo-Rural/Cadena-Productiva-Ma-z-Area-Producci-n-Y-Rendimien/d968-yfb5\" DOI =\"10.5067/MODIS/MOD11A1.006\" gcoFileIndetifier=\"e3514642-3a36-4184-8527-8311cf9287cb\">Cadena Productiva Maíz Area Producción y Rendimiento,Terra Land Surface Temperature and Emissivity Daily Global 1km, Nivel de referencia de veredas\"</dc:source>\n",
    "<dc:language>Español</dc:language>\n",
    "<dc:relation></dc:relation>\n",
    "<dc:coverage>Santander, Cantabria, España-12/01/2020</dc:coverage>\n",
    "<dc:rights>Creative Commons - Reconocimiento 4.0 Internacional - CC BY 4.0</dc:rights>\n",
    "\n",
    "\n",
    "\n",
    "\n",
    "</searchRetrieveResponse>'''\n",
    "tree = ET.fromstring(dc_xml)\n",
    "tree"
   ]
  },
  {
   "cell_type": "code",
   "execution_count": 3,
   "metadata": {},
   "outputs": [
    {
     "name": "stdout",
     "output_type": "stream",
     "text": [
      "{http://purl.org/dc/elements/1.1/}title Datos curados de variables de producción por departamento colombiano (2015-2018)\n",
      "{http://purl.org/dc/elements/1.1/}creator Ana González Guerra\n",
      "{http://purl.org/dc/elements/1.1/}creator David Montero Loaiza\n",
      "{http://purl.org/dc/elements/1.1/}creator Silvia Magdalena López Monzó\n",
      "{http://purl.org/dc/elements/1.1/}creator Javier Alonso del Saso\n",
      "{http://purl.org/dc/elements/1.1/}subject \n",
      "maíz, producción, rendimiento, Colombia, departamento, temperatura, área cosechada, área sembrada\n",
      "\n",
      "{http://purl.org/dc/elements/1.1/}description \n",
      "El siguiente dataset contiene información sobre el rendimiento (t/ha), producción (t), área cosechada (ha), área sembrada (ha) y temperatura (ºC) de cada departamento colombiano por semestre desde 2015 hasta el primer semestre de 2018.\n",
      "\n",
      "{http://purl.org/dc/elements/1.1/}publisher GitHub\n",
      "{http://purl.org/dc/elements/1.1/}contributor Base de datos en abierto del gobierno de Colombia, Base de datos en abierto de The Land Processes Distributed Active CenterBase, Geoportal del Departamento Administrativo Nacional de Estadística de Colombia\n",
      "{http://purl.org/dc/elements/1.1/}date 20/01/2020\n",
      "{http://purl.org/dc/elements/1.1/}type investigación, análisis de datos, transformación\n",
      "{http://purl.org/dc/elements/1.1/}format csv\n",
      "{http://purl.org/dc/elements/1.1/}identifier https://github.com/javialonsaso/maiz_CO/tree/master\n",
      "{http://purl.org/dc/elements/1.1/}source Cadena Productiva Maíz Area Producción y Rendimiento,Terra Land Surface Temperature and Emissivity Daily Global 1km, Nivel de referencia de veredas\"\n",
      "{http://purl.org/dc/elements/1.1/}language Español\n",
      "{http://purl.org/dc/elements/1.1/}relation None\n",
      "{http://purl.org/dc/elements/1.1/}coverage Santander, Cantabria, España-12/01/2020\n",
      "{http://purl.org/dc/elements/1.1/}rights Creative Commons - Reconocimiento 4.0 Internacional - CC BY 4.0\n"
     ]
    }
   ],
   "source": [
    "for table in tree.getiterator('searchRetrieveResponse'):\n",
    "    for child in table:\n",
    "        print(child.tag, child.text)"
   ]
  },
  {
   "cell_type": "code",
   "execution_count": 4,
   "metadata": {},
   "outputs": [
    {
     "data": {
      "text/plain": [
       "{'URL1': 'https://www.datos.gov.co/',\n",
       " 'URL2': 'https://lpdacc.usgs.gov/',\n",
       " 'ULR3': 'https://geoportal.dane.gov.co/'}"
      ]
     },
     "execution_count": 4,
     "metadata": {},
     "output_type": "execute_result"
    }
   ],
   "source": [
    "namespaces = {'dc': 'http://purl.org/dc/elements/1.1/'} \n",
    "tree.find('dc:contributor',namespaces).attrib"
   ]
  },
  {
   "cell_type": "code",
   "execution_count": 5,
   "metadata": {},
   "outputs": [
    {
     "name": "stdout",
     "output_type": "stream",
     "text": [
      "{http://purl.org/dc/elements/1.1/}title {} Datos curados de variables de producción por departamento colombiano (2015-2018)\n",
      "{http://purl.org/dc/elements/1.1/}creator {} Ana González Guerra\n",
      "{http://purl.org/dc/elements/1.1/}creator {} David Montero Loaiza\n",
      "{http://purl.org/dc/elements/1.1/}creator {} Silvia Magdalena López Monzó\n",
      "{http://purl.org/dc/elements/1.1/}creator {} Javier Alonso del Saso\n",
      "{http://purl.org/dc/elements/1.1/}subject {} \n",
      "maíz, producción, rendimiento, Colombia, departamento, temperatura, área cosechada, área sembrada\n",
      "\n",
      "{http://purl.org/dc/elements/1.1/}description {} \n",
      "El siguiente dataset contiene información sobre el rendimiento (t/ha), producción (t), área cosechada (ha), área sembrada (ha) y temperatura (ºC) de cada departamento colombiano por semestre desde 2015 hasta el primer semestre de 2018.\n",
      "\n",
      "{http://purl.org/dc/elements/1.1/}publisher {} GitHub\n",
      "{http://purl.org/dc/elements/1.1/}contributor {'URL1': 'https://www.datos.gov.co/', 'URL2': 'https://lpdacc.usgs.gov/', 'ULR3': 'https://geoportal.dane.gov.co/'} Base de datos en abierto del gobierno de Colombia, Base de datos en abierto de The Land Processes Distributed Active CenterBase, Geoportal del Departamento Administrativo Nacional de Estadística de Colombia\n",
      "{http://purl.org/dc/elements/1.1/}date {} 20/01/2020\n",
      "{http://purl.org/dc/elements/1.1/}type {} investigación, análisis de datos, transformación\n",
      "{http://purl.org/dc/elements/1.1/}format {} csv\n",
      "{http://purl.org/dc/elements/1.1/}identifier {} https://github.com/javialonsaso/maiz_CO/tree/master\n",
      "{http://purl.org/dc/elements/1.1/}source {'URL': 'https://www.datos.gov.co/Agricultura-y-Desarrollo-Rural/Cadena-Productiva-Ma-z-Area-Producci-n-Y-Rendimien/d968-yfb5', 'DOI': '10.5067/MODIS/MOD11A1.006', 'gcoFileIndetifier': 'e3514642-3a36-4184-8527-8311cf9287cb'} Cadena Productiva Maíz Area Producción y Rendimiento,Terra Land Surface Temperature and Emissivity Daily Global 1km, Nivel de referencia de veredas\"\n",
      "{http://purl.org/dc/elements/1.1/}language {} Español\n",
      "{http://purl.org/dc/elements/1.1/}relation {} None\n",
      "{http://purl.org/dc/elements/1.1/}coverage {} Santander, Cantabria, España-12/01/2020\n",
      "{http://purl.org/dc/elements/1.1/}rights {} Creative Commons - Reconocimiento 4.0 Internacional - CC BY 4.0\n"
     ]
    }
   ],
   "source": [
    "for table in tree.getiterator('searchRetrieveResponse'):\n",
    "    for child in table:\n",
    "        print(child.tag, child.attrib, child.text)"
   ]
  }
 ],
 "metadata": {
  "kernelspec": {
   "display_name": "Python 3",
   "language": "python",
   "name": "python3"
  },
  "language_info": {
   "codemirror_mode": {
    "name": "ipython",
    "version": 3
   },
   "file_extension": ".py",
   "mimetype": "text/x-python",
   "name": "python",
   "nbconvert_exporter": "python",
   "pygments_lexer": "ipython3",
   "version": "3.7.5"
  }
 },
 "nbformat": 4,
 "nbformat_minor": 2
}
